{
 "cells": [
  {
   "cell_type": "code",
   "execution_count": null,
   "metadata": {},
   "outputs": [],
   "source": []
  },
  {
   "cell_type": "code",
   "execution_count": 2,
   "metadata": {},
   "outputs": [
    {
     "name": "stdin",
     "output_type": "stream",
     "text": [
      "输入序号选择1正弦2余弦3正切4余切： 3\n",
      "输入一个弧度值（x的值）： 2\n"
     ]
    },
    {
     "name": "stdout",
     "output_type": "stream",
     "text": [
      "27.038447971781306\n"
     ]
    }
   ],
   "source": [
    "#阶乘函数\n",
    "def r(a):\n",
    "    sum=1\n",
    "    for i in range(1,a+1):\n",
    "        sum*=i\n",
    "    return sum\n",
    "\n",
    "def sin(x):\n",
    "    i=1\n",
    "    f=-1\n",
    "    s=0\n",
    "    num=0\n",
    "    while True:\n",
    "        f=f*(-1)\n",
    "        g=2*i-1\n",
    "        b=r(g)\n",
    "        t=2*i-1\n",
    "        m=pow(x,t)\n",
    "        s+=m*f/b\n",
    "        i+=1\n",
    "        num+=1\n",
    "        if(num==n):\n",
    "            break\n",
    "    return s\n",
    "\n",
    "def cos(x):\n",
    "    i=0\n",
    "    f=-1\n",
    "    s=0\n",
    "    num=0\n",
    "    while True:\n",
    "        f=f*(-1)\n",
    "        g=2*i\n",
    "        b=r(g)\n",
    "        t=2*i\n",
    "        m=pow(x,t)\n",
    "        s+=m*f/b\n",
    "        i+=1\n",
    "        num+=1\n",
    "        if(num==n):\n",
    "            break\n",
    "    return s\n",
    "\n",
    "def tan(x):\n",
    "    s=0\n",
    "    i=0\n",
    "    while i<=4:\n",
    "        if i==0:\n",
    "            m=1\n",
    "        if i==1:\n",
    "            m=1/3\n",
    "        if i==2:\n",
    "            m=2/15\n",
    "        if i==3:\n",
    "            m=17/315\n",
    "        if i==4:\n",
    "            m=62/2835\n",
    "        t=pow(x,2*i+1)\n",
    "        s+=t*m\n",
    "        i+=1\n",
    "    return s\n",
    "\n",
    "def cot(x):\n",
    "    s=0\n",
    "    i=0\n",
    "    while i<=4:\n",
    "        if i==0:\n",
    "            m=1\n",
    "        if i==1:\n",
    "            m=(-1)/3\n",
    "        if i==2:\n",
    "            m=(-1)/45\n",
    "        if i==3:\n",
    "            m=(-2)/945\n",
    "        if i==4:\n",
    "             m=(-1)/4725\n",
    "        t=pow(x,2*i-1)\n",
    "        s+=t*m\n",
    "        i+=1\n",
    "    return s\n",
    "\n",
    "a=int(input(\"输入序号选择1正弦2余弦3正切4余切：\"))\n",
    "if a==1:\n",
    "    n=int(input(\"输入多项式项数：\"))\n",
    "    x=float(input(\"输入一个弧度值（x的值）：\"))\n",
    "    print(sin(x))\n",
    "if a==2:\n",
    "    n=int(input(\"输入多项式项数：\"))\n",
    "    x=float(input(\"输入一个弧度值（x的值）：\"))\n",
    "    print(cos(x))\n",
    "if a==3:\n",
    "    x=float(input(\"输入一个弧度值（x的值）：\"))\n",
    "    print(tan(x))\n",
    "if a==4:\n",
    "    x=float(input(\"输入一个弧度值（x的值）：\"))\n",
    "    print(cot(x))"
   ]
  },
  {
   "cell_type": "code",
   "execution_count": null,
   "metadata": {},
   "outputs": [],
   "source": []
  }
 ],
 "metadata": {
  "kernelspec": {
   "display_name": "Python 3",
   "language": "python",
   "name": "python3"
  },
  "language_info": {
   "codemirror_mode": {
    "name": "ipython",
    "version": 3
   },
   "file_extension": ".py",
   "mimetype": "text/x-python",
   "name": "python",
   "nbconvert_exporter": "python",
   "pygments_lexer": "ipython3",
   "version": "3.7.6"
  }
 },
 "nbformat": 4,
 "nbformat_minor": 4
}
